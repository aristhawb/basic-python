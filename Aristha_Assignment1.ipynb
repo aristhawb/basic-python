{
 "cells": [
  {
   "cell_type": "code",
   "execution_count": 12,
   "id": "positive-penny",
   "metadata": {},
   "outputs": [
    {
     "name": "stdin",
     "output_type": "stream",
     "text": [
      "nama :  Aristha\n",
      "umur :  21\n",
      "tinggi :  170\n"
     ]
    },
    {
     "name": "stdout",
     "output_type": "stream",
     "text": [
      "Nama saya Aristha, umur saya 21 tahun, dan tinggi saya 170.0 cm.\n"
     ]
    }
   ],
   "source": [
    "nama = input(\"nama : \")\n",
    "umur = int(input(\"umur : \"))\n",
    "tinggi = float(input(\"tinggi : \"))\n",
    "text = \"Nama saya {}, umur saya {} tahun, dan tinggi saya {} cm.\".format (nama, umur, tinggi)\n",
    "print(text)"
   ]
  },
  {
   "cell_type": "code",
   "execution_count": 1,
   "id": "mental-casino",
   "metadata": {},
   "outputs": [
    {
     "name": "stdin",
     "output_type": "stream",
     "text": [
      "jari-jari lingkaran :  10\n"
     ]
    },
    {
     "name": "stdout",
     "output_type": "stream",
     "text": [
      "Luas Lingkaran dengan jari-jari 10.0 cm adalah 314.2857142857143 cm² \n"
     ]
    }
   ],
   "source": [
    "π = 22/7\n",
    "r = float(input(\"jari-jari lingkaran : \"))\n",
    "luas = π*r*r\n",
    "text = \"Luas Lingkaran dengan jari-jari {} cm adalah {} cm\\u00b2 \".format(r, luas)\n",
    "print(text.format(luas,'.2f'))"
   ]
  },
  {
   "cell_type": "code",
   "execution_count": 3,
   "id": "catholic-caribbean",
   "metadata": {},
   "outputs": [
    {
     "name": "stdin",
     "output_type": "stream",
     "text": [
      "Masukkan nilai ujian teori :  70\n",
      "Masukkan nilai ujian praktek : 80\n"
     ]
    },
    {
     "name": "stdout",
     "output_type": "stream",
     "text": [
      "Selamat, anda lulus!\n"
     ]
    }
   ],
   "source": [
    "teori = int(input(\"Masukkan nilai ujian teori : \"))\n",
    "praktek = int(input(\"Masukkan nilai ujian praktek :\"))\n",
    "minimum = 70\n",
    "\n",
    "if teori >= minimum and praktek >= minimum : \n",
    "    print (\"Selamat, anda lulus!\")\n",
    "elif teori >= minimum and praktek < minimum :\n",
    "    print (\"Anda harus mengulang ujian praktek.\")\n",
    "elif teori < minimum and praktek >= minimum :\n",
    "    print (\"Anda harus mengulang ujian teori.\")\n",
    "elif teori < minimum and praktek < minimum :\n",
    "    print (\"Anda harus mengulang ujian teori dan praktek.\")"
   ]
  },
  {
   "cell_type": "code",
   "execution_count": null,
   "id": "complete-mambo",
   "metadata": {},
   "outputs": [],
   "source": []
  }
 ],
 "metadata": {
  "kernelspec": {
   "display_name": "Python 3",
   "language": "python",
   "name": "python3"
  },
  "language_info": {
   "codemirror_mode": {
    "name": "ipython",
    "version": 3
   },
   "file_extension": ".py",
   "mimetype": "text/x-python",
   "name": "python",
   "nbconvert_exporter": "python",
   "pygments_lexer": "ipython3",
   "version": "3.8.5"
  }
 },
 "nbformat": 4,
 "nbformat_minor": 5
}
