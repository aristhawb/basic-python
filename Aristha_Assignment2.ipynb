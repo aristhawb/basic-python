{
 "cells": [
  {
   "cell_type": "code",
   "execution_count": 14,
   "id": "useful-plasma",
   "metadata": {},
   "outputs": [
    {
     "name": "stdout",
     "output_type": "stream",
     "text": [
      "Selamat Datang!\n",
      "\n",
      " --Menu-- \n",
      "\t 1. Daftar Kontak\n",
      "\t 2. Tambahkan Kontak\n",
      "\t 3. Keluar\n"
     ]
    },
    {
     "name": "stdin",
     "output_type": "stream",
     "text": [
      "Pilih Menu :  1\n"
     ]
    },
    {
     "name": "stdout",
     "output_type": "stream",
     "text": [
      "Daftar kontak :\n",
      "Nama  :  Lala\n",
      "No HP :  081328997653\n",
      "Nama  :  Toni\n",
      "No HP :  081290675428\n",
      "Nama  :  Rara\n",
      "No HP :  087245629875\n",
      "\n",
      " --Menu-- \n",
      "\t 1. Daftar Kontak\n",
      "\t 2. Tambahkan Kontak\n",
      "\t 3. Keluar\n"
     ]
    },
    {
     "name": "stdin",
     "output_type": "stream",
     "text": [
      "Pilih Menu :  2\n"
     ]
    },
    {
     "name": "stdout",
     "output_type": "stream",
     "text": [
      "Masukan kontak baru :\n"
     ]
    },
    {
     "name": "stdin",
     "output_type": "stream",
     "text": [
      "\t Nama : Caca\n",
      "\t No Hp : 081367809775\n"
     ]
    },
    {
     "name": "stdout",
     "output_type": "stream",
     "text": [
      "\t Kontak berhasil ditambahkan!\n",
      "\n",
      " --Menu-- \n",
      "\t 1. Daftar Kontak\n",
      "\t 2. Tambahkan Kontak\n",
      "\t 3. Keluar\n"
     ]
    },
    {
     "name": "stdin",
     "output_type": "stream",
     "text": [
      "Pilih Menu :  3\n"
     ]
    },
    {
     "name": "stdout",
     "output_type": "stream",
     "text": [
      "Program selesai, sampai jumpa!\n"
     ]
    }
   ],
   "source": [
    "# Pilihan Menu\n",
    "def menu():\n",
    "    print(\" --Menu-- \")\n",
    "    print(\"\\t 1. Daftar Kontak\")\n",
    "    print(\"\\t 2. Tambahkan Kontak\")\n",
    "    print(\"\\t 3. Keluar\")\n",
    "    \n",
    "print(\"Selamat Datang!\")\n",
    "\n",
    "# Penyimpanan Nama dan No HP\n",
    "Nama = ['Lala','Toni','Rara']\n",
    "No_hp = ['081328997653','081290675428','087245629875']\n",
    "\n",
    "# Memanggil pilihan menu\n",
    "while True :\n",
    "    print('')\n",
    "    menu()\n",
    "    pilih = input(\"Pilih Menu : \")\n",
    "    if pilih == \"1\":\n",
    "        print(\"Daftar kontak :\")\n",
    "        for i in range(len(Nama)):\n",
    "            print(\"Nama  : \",Nama[i])\n",
    "            print(\"No HP : \",No_hp[i])\n",
    "    elif pilih == \"2\":\n",
    "        print(\"Masukan kontak baru :\")\n",
    "        Name = input(\"\\t Nama :\")\n",
    "        Phone = input(\"\\t No Hp :\")\n",
    "        Nama.append(Name)\n",
    "        No_hp.append(Phone)\n",
    "        print(\"\\t Kontak berhasil ditambahkan!\")\n",
    "        \n",
    "    elif pilih == \"3\":\n",
    "        print(\"Program selesai, sampai jumpa!\")\n",
    "        break\n",
    "    else:\n",
    "        print(\"\\nMenu tidak tersedia\")"
   ]
  },
  {
   "cell_type": "code",
   "execution_count": null,
   "id": "returning-fifty",
   "metadata": {},
   "outputs": [],
   "source": []
  },
  {
   "cell_type": "code",
   "execution_count": 1,
   "id": "particular-sunday",
   "metadata": {},
   "outputs": [
    {
     "name": "stdout",
     "output_type": "stream",
     "text": [
      "Hai, aku AIs, asisten virtual pertamamu.\n",
      "Siapa namamu?\n"
     ]
    },
    {
     "name": "stdin",
     "output_type": "stream",
     "text": [
      "Masukkan nama :  Citra\n"
     ]
    },
    {
     "name": "stdout",
     "output_type": "stream",
     "text": [
      "\n",
      " Salam kenal Citra\n",
      "Apakah ada yang bisa aku bantu?\n",
      "\n",
      "Silahkan pilih bantuan :\n",
      "1. Kalkulator Sederhana\n",
      "2. Menemani Curhatmu\n",
      "3. Keluar \n"
     ]
    },
    {
     "name": "stdin",
     "output_type": "stream",
     "text": [
      " Pilih angka yang kamu butuhkan :  1\n"
     ]
    },
    {
     "name": "stdout",
     "output_type": "stream",
     "text": [
      "\n",
      "Aplikasi Kalkulator sederhana :\n",
      "Silakan pilih menu :\n",
      "a.Penjumlahan\n",
      "b.Pengurangan\n",
      "c.Perkalian\n",
      "d.Pembagian\n",
      "e.Kembali\n"
     ]
    },
    {
     "name": "stdin",
     "output_type": "stream",
     "text": [
      " Pilih huruf saja : a\n",
      "Masukan angka pertama: 500\n",
      "Masukan angka kedua: 700\n"
     ]
    },
    {
     "name": "stdout",
     "output_type": "stream",
     "text": [
      "Maka hasil dari 500 + 700 adalah 1200\n",
      "\n",
      "Aplikasi Kalkulator sederhana :\n",
      "Silakan pilih menu :\n",
      "a.Penjumlahan\n",
      "b.Pengurangan\n",
      "c.Perkalian\n",
      "d.Pembagian\n",
      "e.Kembali\n"
     ]
    },
    {
     "name": "stdin",
     "output_type": "stream",
     "text": [
      " Pilih huruf saja : e\n"
     ]
    },
    {
     "name": "stdout",
     "output_type": "stream",
     "text": [
      "\n",
      "Terima kasih telah menggunakan kalkulator ini!\n",
      "\n",
      "Silahkan pilih bantuan :\n",
      "1. Kalkulator Sederhana\n",
      "2. Menemani Curhatmu\n",
      "3. Keluar \n"
     ]
    },
    {
     "name": "stdin",
     "output_type": "stream",
     "text": [
      " Pilih angka yang kamu butuhkan :  2\n",
      "Coba ceritakan apa yang kamu rasakan saat ini: Aku sedih\n",
      "\n",
      "Bisakah kamu ceritakan lagi? : Galau\n"
     ]
    },
    {
     "name": "stdout",
     "output_type": "stream",
     "text": [
      "\n",
      "\tTerima kasih sudah bersedia untuk bercerita! Semoga perasaanmu menjadi lebih baik.\n",
      "\n",
      "Silahkan pilih bantuan :\n",
      "1. Kalkulator Sederhana\n",
      "2. Menemani Curhatmu\n",
      "3. Keluar \n"
     ]
    },
    {
     "name": "stdin",
     "output_type": "stream",
     "text": [
      " Pilih angka yang kamu butuhkan :  3\n"
     ]
    },
    {
     "name": "stdout",
     "output_type": "stream",
     "text": [
      "Sampai berjumpa lagi\n"
     ]
    }
   ],
   "source": [
    "## Fungsi Menu awal\n",
    "def menu():\n",
    "    print(\"Silahkan pilih bantuan :\")\n",
    "    print(\"1. Kalkulator Sederhana\")\n",
    "    print(\"2. Menemani Curhatmu\")\n",
    "    print(\"3. Keluar \")\n",
    "    \n",
    "# Fungsi Kalkulator\n",
    "def kalkulator():\n",
    "    while True:\n",
    "        print(\"\\nAplikasi Kalkulator sederhana :\")\n",
    "        print(\"Silakan pilih menu :\")\n",
    "        print(\"a.Penjumlahan\")\n",
    "        print(\"b.Pengurangan\")\n",
    "        print(\"c.Perkalian\")\n",
    "        print(\"d.Pembagian\")\n",
    "        print(\"e.Kembali\")\n",
    "        operasi = input(\" Pilih huruf saja :\")\n",
    "        if operasi ==\"a\":\n",
    "            x = int(input(\"Masukan angka pertama:\"))\n",
    "            y = int(input(\"Masukan angka kedua:\"))\n",
    "            s = x+y\n",
    "            print (\"Maka hasil dari\",x,\"+\",y,\"adalah\",s)\n",
    "        elif operasi ==\"b\":\n",
    "            x = int(input(\"Masukan angka pertama:\"))\n",
    "            y = int(input(\"Masukan angka kedua:\"))\n",
    "            k = x-y\n",
    "            print(\"Maka hasil dari\",x,\"-\",y,\"adalah\",k)\n",
    "        elif operasi == \"c\":\n",
    "            x = int(input(\"Masukan angka pertama:\"))\n",
    "            y = int(input(\"Masukan angka kedua\"))\n",
    "            t = x*y\n",
    "            print(\"Maka hasil dari\",x,\"x\",y,\"adalah\",t)\n",
    "        elif operasi == \"d\":\n",
    "            x = int(input(\"Masukan angka pertama:\"))\n",
    "            y = int(input(\"Masukan angka kedua:\"))\n",
    "            g = x/y\n",
    "            print(\"Maka hasil dari\",x,\":\",y,\"adalah\",g)\n",
    "        elif operasi ==\"e\":\n",
    "            print(\"\\nTerima kasih telah menggunakan kalkulator ini!\")\n",
    "            break\n",
    "        else:\n",
    "            print(\"\\nMaaf, pilihanmu tidak tersedia\")\n",
    "        \n",
    "# Fungsi Chatbot        \n",
    "def chatbot():\n",
    "    input(\"Coba ceritakan apa yang kamu rasakan saat ini:\")\n",
    "    while True:\n",
    "        cerita= input(\"\\nBisakah kamu ceritakan lagi? :\")\n",
    "        if 'gagal'in cerita or 'bodoh' in cerita or 'jelek' in cerita:\n",
    "            print(\"\\n\\tAyo semangat, hari esok yang baik akan menantimu!\")\n",
    "        elif 'kecewa' in cerita or 'sedih' in cerita or 'putus asa' in cerita:\n",
    "            print(\"\\n\\tApa yang membuat kamu merasakan hal ini? :\")\n",
    "        elif 'senang' in cerita or 'berhasil' in cerita or 'menang' in cerita or 'hadiah' in cerita:\n",
    "            print('Wah selamat ya! Kamu memang terbaik!')\n",
    "        else:\n",
    "            print('\\n\\tTerima kasih sudah bersedia untuk bercerita! Semoga perasaanmu menjadi lebih baik.')\n",
    "            break\n",
    "# Pengantar \n",
    "print(\"Hai, aku AIs, asisten virtual pertamamu.\")\n",
    "print(\"Siapa namamu?\")\n",
    "\n",
    "nama = input(\"Masukkan nama : \")\n",
    "\n",
    "print(\"\\n Salam kenal\",nama)\n",
    "print(\"Apakah ada yang bisa aku bantu?\")\n",
    "\n",
    "# Munculkan menu awal\n",
    "while True:\n",
    "    print('')\n",
    "    menu()\n",
    "    \n",
    "    pilih = input(\" Pilih angka yang kamu butuhkan : \")\n",
    "    # Menu Kalkulator\n",
    "    if pilih =='1':\n",
    "        kalkulator()\n",
    "    elif pilih =='2':\n",
    "        chatbot()\n",
    "    elif pilih =='3':\n",
    "        print(\"Sampai berjumpa lagi\")\n",
    "        break\n",
    "    else:\n",
    "        print(\"\\nMaaf, angka yang kamu pilih tidak tersedia\")"
   ]
  },
  {
   "cell_type": "code",
   "execution_count": null,
   "id": "framed-revelation",
   "metadata": {},
   "outputs": [],
   "source": []
  }
 ],
 "metadata": {
  "kernelspec": {
   "display_name": "Python 3",
   "language": "python",
   "name": "python3"
  },
  "language_info": {
   "codemirror_mode": {
    "name": "ipython",
    "version": 3
   },
   "file_extension": ".py",
   "mimetype": "text/x-python",
   "name": "python",
   "nbconvert_exporter": "python",
   "pygments_lexer": "ipython3",
   "version": "3.8.5"
  }
 },
 "nbformat": 4,
 "nbformat_minor": 5
}
