{
 "cells": [
  {
   "cell_type": "code",
   "execution_count": 74,
   "id": "interpreted-delay",
   "metadata": {},
   "outputs": [],
   "source": [
    "import smtplib\n",
    "import csv\n",
    "from string import Template\n",
    "from email.mime.multipart import MIMEMultipart\n",
    "from email.mime.text import MIMEText"
   ]
  },
  {
   "cell_type": "code",
   "execution_count": 75,
   "id": "adult-hollywood",
   "metadata": {},
   "outputs": [],
   "source": [
    "def getEmails(self):\n",
    "    names = []\n",
    "    emails = []\n",
    "    with open(\"receiver_list.txt\", mode='r', encoding='utf-8') as contacts_file:\n",
    "        for a_contact in contacts_file:\n",
    "            names.append(a_contact.split()[0])\n",
    "            emails.append(a_contact.split()[0])\n",
    "        return names, emails"
   ]
  },
  {
   "cell_type": "code",
   "execution_count": 76,
   "id": "institutional-stanford",
   "metadata": {},
   "outputs": [],
   "source": [
    "def getBodyEmail(self):\n",
    "   with open(\"email_body.txt\", 'r') as template_file:\n",
    "        template_file_content = template_file.read()\n",
    "        return Template(template_file_content)"
   ]
  },
  {
   "cell_type": "code",
   "execution_count": 77,
   "id": "broadband-garbage",
   "metadata": {},
   "outputs": [],
   "source": [
    "from email.mime.multipart import MIMEMultipart\n",
    "from email.mime.text import MIMEText"
   ]
  },
  {
   "cell_type": "code",
   "execution_count": 86,
   "id": "atlantic-oxide",
   "metadata": {},
   "outputs": [],
   "source": [
    "names, emails = getEmails('receiver_list.txt')"
   ]
  },
  {
   "cell_type": "code",
   "execution_count": 3,
   "id": "velvet-interval",
   "metadata": {},
   "outputs": [
    {
     "name": "stdout",
     "output_type": "stream",
     "text": [
      "Masuk ke Email Anda : jkholdings12@gmail.com\n",
      "Password : jkholdings123.\n"
     ]
    }
   ],
   "source": [
    "username = input(\"Masuk ke Email Anda : \")\n",
    "password = input(\"Password : \")"
   ]
  },
  {
   "cell_type": "code",
   "execution_count": 4,
   "id": "egyptian-williams",
   "metadata": {},
   "outputs": [],
   "source": [
    "def setUpSMTP():\n",
    "    s = smtplib.SMTP('smtp.gmail.com:587')\n",
    "    s.ehlo()\n",
    "    s.starttls()\n",
    "    s.login('username', 'password')\n",
    "    return s"
   ]
  },
  {
   "cell_type": "code",
   "execution_count": 82,
   "id": "unavailable-discipline",
   "metadata": {},
   "outputs": [],
   "source": [
    "fromaddress = username\n",
    "toaddress = emails"
   ]
  },
  {
   "cell_type": "code",
   "execution_count": 1,
   "id": "optical-bloom",
   "metadata": {},
   "outputs": [],
   "source": [
    "def sendmail(From, To, Subject):\n",
    "    msg = MIMEMultipart()\n",
    "    msg['From'] = username\n",
    "    msg['To'] = emails\n",
    "    msg['Subject'] = \"Terima kasih dari kami\""
   ]
  },
  {
   "cell_type": "code",
   "execution_count": 4,
   "id": "tribal-munich",
   "metadata": {},
   "outputs": [
    {
     "data": {
      "text/plain": [
       "(235, b'2.7.0 Accepted')"
      ]
     },
     "execution_count": 4,
     "metadata": {},
     "output_type": "execute_result"
    }
   ],
   "source": [
    "import smtplib\n",
    "server = smtplib.SMTP('smtp.gmail.com', 587)\n",
    "server.starttls()\n",
    "server.login('jkholdings12@gmail.com','jkholdings123.')"
   ]
  },
  {
   "cell_type": "code",
   "execution_count": 5,
   "id": "secure-dominant",
   "metadata": {},
   "outputs": [
    {
     "ename": "NameError",
     "evalue": "name 'fromaddress' is not defined",
     "output_type": "error",
     "traceback": [
      "\u001b[1;31m---------------------------------------------------------------------------\u001b[0m",
      "\u001b[1;31mNameError\u001b[0m                                 Traceback (most recent call last)",
      "\u001b[1;32m<ipython-input-5-405ca6262464>\u001b[0m in \u001b[0;36m<module>\u001b[1;34m\u001b[0m\n\u001b[0;32m      1\u001b[0m \u001b[0mmsg\u001b[0m \u001b[1;33m=\u001b[0m \u001b[1;34m\"Dear klien, Terima kasih telah bekerja sama dengan kami. Best Regards, JK Holdings\"\u001b[0m\u001b[1;33m\u001b[0m\u001b[1;33m\u001b[0m\u001b[0m\n\u001b[1;32m----> 2\u001b[1;33m \u001b[0mserver\u001b[0m\u001b[1;33m.\u001b[0m\u001b[0msendmail\u001b[0m\u001b[1;33m(\u001b[0m\u001b[0mfromaddress\u001b[0m\u001b[1;33m,\u001b[0m \u001b[0mtoaddress\u001b[0m\u001b[1;33m,\u001b[0m \u001b[0mmsg\u001b[0m\u001b[1;33m)\u001b[0m\u001b[1;33m\u001b[0m\u001b[1;33m\u001b[0m\u001b[0m\n\u001b[0m",
      "\u001b[1;31mNameError\u001b[0m: name 'fromaddress' is not defined"
     ]
    }
   ],
   "source": [
    "msg = \"Dear klien, Terima kasih telah bekerja sama dengan kami. Best Regards, JK Holdings\"\n",
    "server.sendmail(fromaddress, toaddress, msg)"
   ]
  },
  {
   "cell_type": "code",
   "execution_count": 73,
   "id": "emotional-tenant",
   "metadata": {},
   "outputs": [
    {
     "data": {
      "text/plain": [
       "(221, b'2.0.0 closing connection w2sm5991856pgh.54 - gsmtp')"
      ]
     },
     "execution_count": 73,
     "metadata": {},
     "output_type": "execute_result"
    }
   ],
   "source": [
    "server.quit()"
   ]
  },
  {
   "cell_type": "code",
   "execution_count": 6,
   "id": "scenic-humanitarian",
   "metadata": {},
   "outputs": [],
   "source": [
    "# REFERENCES\n",
    "\n",
    "# https://realpython.com/python-send-email/\n",
    "# https://realpython.com/python-send-email/#starting-a-secure-smtp-connection"
   ]
  }
 ],
 "metadata": {
  "kernelspec": {
   "display_name": "Python 3",
   "language": "python",
   "name": "python3"
  },
  "language_info": {
   "codemirror_mode": {
    "name": "ipython",
    "version": 3
   },
   "file_extension": ".py",
   "mimetype": "text/x-python",
   "name": "python",
   "nbconvert_exporter": "python",
   "pygments_lexer": "ipython3",
   "version": "3.8.5"
  }
 },
 "nbformat": 4,
 "nbformat_minor": 5
}
